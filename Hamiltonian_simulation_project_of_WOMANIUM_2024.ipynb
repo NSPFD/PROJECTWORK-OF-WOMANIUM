{
  "nbformat": 4,
  "nbformat_minor": 0,
  "metadata": {
    "colab": {
      "provenance": [],
      "authorship_tag": "ABX9TyM7ljcErfC0KJGJvozpGKEO",
      "include_colab_link": true
    },
    "kernelspec": {
      "name": "python3",
      "display_name": "Python 3"
    },
    "language_info": {
      "name": "python"
    }
  },
  "cells": [
    {
      "cell_type": "markdown",
      "metadata": {
        "id": "view-in-github",
        "colab_type": "text"
      },
      "source": [
        "<a href=\"https://colab.research.google.com/github/NSPFD/PROJECTWORK-OF-WOMANIUM/blob/main/Hamiltonian_simulation_project_of_WOMANIUM_2024.ipynb\" target=\"_parent\"><img src=\"https://colab.research.google.com/assets/colab-badge.svg\" alt=\"Open In Colab\"/></a>"
      ]
    },
    {
      "cell_type": "markdown",
      "source": [
        "**HAMILTONIAN SIMULATION BASED ON VQE ALGORITHIMS**"
      ],
      "metadata": {
        "id": "rBjwHwA8s8w-"
      }
    },
    {
      "cell_type": "markdown",
      "source": [
        "Quantum Hamiltonian simulation is one of the most important problems in quantum computing. It consists in modeling the time evolution of a quantum system, ruled by some not natively executable Hamiltonian in a specific device. Simulations of this type are essential to comprehend quantum systems that are described by a complex dynamics, such as molecules in chemistry or materials in condensed matter physics, where classical computers fail due the exponential scale up required by larger quantum systems.\n",
        "\n",
        "In this guide, you will be using Classiq to work with simple problems of Hamiltonian simulation using two different methods:\n",
        "\n",
        "Trotter-Suzuki decomposition"
      ],
      "metadata": {
        "id": "P9hnfIL6s_aA"
      }
    },
    {
      "cell_type": "markdown",
      "source": [
        "Quantum Hamiltonian simulation has several significant applications. Some of them are particularly interesting for physicists:\n",
        "\n",
        "Quantum Chemistry: It helps in predicting properties of molecules using quantum methods such as the Quantum Variational Eigensolver (VQE), which can be more efficiently than classical methods in certain conditions.\n",
        "Materials Science: It aids in designing new materials with desired properties by simulating their quantum mechanical behavior.\n",
        "Optimization and Machine Learning: Quantum simulations can be used to solve complex optimization problems and improve machine learning algorithms.\n",
        "Mathematically, we can approach the Hamiltonian Simulation problem as the following: Suppose we have a quantum computer that can run natively the evolution operators of the set of Hamiltonians {Hj}. Now, suppose we want to understand the dynamics of the following, more complex, Hamiltonian:\n",
        "\n",
        "What are the operations that this quantum computer can effectively execute?\n",
        "Hfull=∑jhjHj,\n",
        "\n",
        "For some real values hj. Therefore, we would need some kind of decomposition from the operator of Eq. (1) into our set of operations, formed by {e−itHj}, where e−itHj is the evolution operator of the hamiltonian H.\n",
        "\n",
        "Trotter-Suzuki decomposition\n",
        "Now that the problem is stated, a possible solution is the Trotter-Suzuki decomposition, also known as Trotterization. Simply put, this method involves \"breaking\" the evolution operator into the evolution operators of its components. In the first order, it looks like this:\n",
        "\n",
        "e−itH=exp{−it∑jhjHj}≈(∏je−it,hj,Hj/n)n+O(t2/n).\n",
        "\n",
        "More details about this decomposition can be found in [1].\n",
        "\n",
        "This formula is very important and has applications in several scenarios. Additionally, if we need an error that scales better than t2, it is possible to achieve higher-order Trotter-Suzuki formulas. For example, the second order Trotter-Suzuki would look like this:\n",
        "\n",
        "e−it(H1+H2)=exp{−i(t1H1+t2H2)}≈(e−it1H1/(2n)e−it2H2/ne−it1H1/(2n))n+O(t3/n).\n",
        "\n",
        "Higher orders for the Trotter-Suzuki formula can be found in [1]. However, as the number of terms in the hamiltonian and the approximation order increases, it gets harder to construct the Trotter-Suzuki formulas. For this end, we can use Classiq's function suzuki_trotter() to execute a Trotter decomposition of an operator, specifying the order and number of repetitions. Lets take a look on how does it work with an example:\n",
        "\n",
        "Now that the inputs for the Trotter-Suzuki method are defined, lets apply it to the simple example of approximating the dynamics of the following two-qubits hamiltonian\n",
        "\n",
        "H=0.3Z⊗Z+0.7X⊗I+0.2I⊗X,\n",
        "\n",
        "which represents two spins interacting in a transversal field. First, we need to identify the operators {Hj} and its respective coefficients {hj}:\n",
        "\n",
        "H1=Z⊗Z, coefficient: h1=0.3;H2=X⊗I, coefficient: h2=0.7;H3=I⊗X, coefficient: h3=0.2.\n",
        "\n",
        "The second step is to define the number n of repetitions into which we will \"break\" the evolution. In this case, we will apply it for n=10. The order of the Trotter-Suzuki decomposition can be altered in the parameter order. In the current case we will be applying it to first order.\n",
        "\n",
        "\n",
        "[ ]\n"
      ],
      "metadata": {
        "id": "nJjys3RJtDMs"
      }
    },
    {
      "cell_type": "code",
      "source": [
        "from classiq import *\n",
        "\n",
        "#Defining the Hamiltonian:\n",
        "HAMILTONIAN = [PauliTerm(pauli=[Pauli.Z, Pauli.Z], coefficient=0.3),\n",
        "            PauliTerm(pauli=[Pauli.X, Pauli.I], coefficient=0.7),\n",
        "            PauliTerm(pauli=[Pauli.I, Pauli.X], coefficient=0.2),]\n",
        "@qfunc\n",
        "def main(qba: Output[QArray[QBit]]):\n",
        "    allocate(2, qba)\n",
        "    suzuki_trotter(\n",
        "        HAMILTONIAN,\n",
        "        evolution_coefficient=1.0,\n",
        "        order=1,\n",
        "        repetitions=10,\n",
        "        qbv=qba,\n",
        "    )\n",
        "\n",
        "\n",
        "qmod = create_model(main)\n",
        "qprog = synthesize(qmod)\n",
        "write_qmod(qmod, \"trotter\")\n",
        "show(qprog)"
      ],
      "metadata": {
        "id": "r82X33EttRNw"
      },
      "execution_count": null,
      "outputs": []
    },
    {
      "cell_type": "markdown",
      "source": [
        "Exponentiation with depth constraint"
      ],
      "metadata": {
        "id": "6ny-h1fcteK8"
      }
    },
    {
      "cell_type": "markdown",
      "source": [
        "Exponentiation with depth constraint\n",
        "It is also possible to generate an efficient decomposition of an evolution operator with Classiq's function exponentiation_with_depth_constraint. Given the maximum depth of the decomposition, and the inputs related to the Hamiltonian itself, the synthesizer finds the most accurate higher order Trotter decomposition and applies it. For the example above, considering a maximum depth of  N=30  the code would be:"
      ],
      "metadata": {
        "id": "SVxkaM1KtYUz"
      }
    },
    {
      "cell_type": "code",
      "source": [
        "from classiq import *\n",
        "\n",
        "@qfunc\n",
        "def main(qba: Output[QArray[QBit]]):\n",
        "\n",
        "    allocate(2, qba)\n",
        "    exponentiation_with_depth_constraint(\n",
        "        HAMILTONIAN,\n",
        "        evolution_coefficient=1,\n",
        "        max_depth=30,\n",
        "        qbv=qba,\n",
        "    )\n",
        "\n",
        "\n",
        "qmod = create_model(main)\n",
        "write_qmod(qmod, \"exponentiation\")\n",
        "qprog = synthesize(qmod)\n",
        "show(qprog)"
      ],
      "metadata": {
        "id": "sGRgHrS8taea"
      },
      "execution_count": null,
      "outputs": []
    }
  ]
}